{
  "nbformat": 4,
  "nbformat_minor": 0,
  "metadata": {
    "colab": {
      "provenance": []
    },
    "kernelspec": {
      "name": "python3",
      "display_name": "Python 3"
    },
    "language_info": {
      "name": "python"
    }
  },
  "cells": [
    {
      "cell_type": "markdown",
      "source": [
        "# Fetch YT Info\n",
        "\n",
        "Use the YouTube Data API to fetch info for the videos in a given playlist. Results can be downloaded as external files.\n",
        "\n",
        "- [YouTube Data API Overview](https://developers.google.com/youtube/v3/getting-started)"
      ],
      "metadata": {
        "id": "HaAWGWZdxpOx"
      }
    },
    {
      "cell_type": "code",
      "source": [
        "API_KEY = input(\"Enter your YouTube Data API key: \")"
      ],
      "metadata": {
        "id": "5blK2WCtsVzF"
      },
      "execution_count": null,
      "outputs": []
    },
    {
      "cell_type": "code",
      "execution_count": null,
      "metadata": {
        "id": "A-fZT1LKsNIv"
      },
      "outputs": [],
      "source": [
        "import requests\n",
        "import pandas as pd\n",
        "\n",
        "# Get all video IDs in the playlist\n",
        "def get_video_ids(playlist_id, api_key):\n",
        "    video_ids = []\n",
        "    base_url = \"https://www.googleapis.com/youtube/v3/playlistItems\"\n",
        "    params = {\n",
        "        \"part\": \"contentDetails\",\n",
        "        \"playlistId\": playlist_id,\n",
        "        \"maxResults\": 50,\n",
        "        \"key\": api_key\n",
        "    }\n",
        "\n",
        "    while True:\n",
        "        res = requests.get(base_url, params=params).json()\n",
        "        for item in res.get(\"items\", []):\n",
        "            video_ids.append(item[\"contentDetails\"][\"videoId\"])\n",
        "        next_token = res.get(\"nextPageToken\")\n",
        "        if not next_token:\n",
        "            break\n",
        "        params[\"pageToken\"] = next_token\n",
        "\n",
        "    return video_ids\n",
        "\n",
        "# Get stats (views, likes) for each video\n",
        "import requests\n",
        "def get_video_stats(video_ids, api_key):\n",
        "    stats = []\n",
        "    base_url = \"https://www.googleapis.com/youtube/v3/videos\"\n",
        "    for i in range(0, len(video_ids), 50):  # max 50 IDs per request\n",
        "        ids_slice = video_ids[i:i+50]\n",
        "        params = {\n",
        "            \"part\": \"statistics,snippet\",\n",
        "            \"id\": \",\".join(ids_slice),\n",
        "            \"key\": api_key\n",
        "        }\n",
        "        res = requests.get(base_url, params=params).json()\n",
        "        for item in res.get(\"items\", []):\n",
        "            stats.append({\n",
        "                \"video_id\": item[\"id\"],\n",
        "                \"title\": item[\"snippet\"][\"title\"],\n",
        "                \"views\": int(item[\"statistics\"].get(\"viewCount\", 0)),\n",
        "                \"likes\": int(item[\"statistics\"].get(\"likeCount\", 0)),\n",
        "                \"upload_date\": item[\"snippet\"].get(\"publishedAt\", \"\")\n",
        "            })\n",
        "    return stats\n",
        "\n",
        "# formatting\n",
        "def format_as_df(video_stats):\n",
        "    df = pd.DataFrame(video_stats)\n",
        "    df['fetch_date'] = pd.Timestamp.now(tz='UTC').replace(microsecond=0).isoformat().replace('+00:00', 'Z')\n",
        "    df = df.sort_values(by=\"upload_date\", ascending=True).reset_index(drop=True)\n",
        "    return df"
      ]
    },
    {
      "cell_type": "markdown",
      "source": [
        "## Fetch data from playlist"
      ],
      "metadata": {
        "id": "a-nWOqPLv7Vr"
      }
    },
    {
      "cell_type": "code",
      "source": [
        "PLAYLIST_ID = input(\"Enter the YouTube playlist ID (the part after 'list='): \")"
      ],
      "metadata": {
        "id": "OQJ3yIUJv1rN"
      },
      "execution_count": null,
      "outputs": []
    },
    {
      "cell_type": "code",
      "source": [
        "# Run and show results (pings API)\n",
        "video_ids = get_video_ids(PLAYLIST_ID, API_KEY)\n",
        "video_stats = get_video_stats(video_ids, API_KEY)"
      ],
      "metadata": {
        "collapsed": true,
        "id": "CrNT3TfvsZBg"
      },
      "execution_count": null,
      "outputs": []
    },
    {
      "cell_type": "code",
      "source": [
        "# Format\n",
        "df = format_as_df(video_stats)"
      ],
      "metadata": {
        "id": "nNRfWS6TuSbe"
      },
      "execution_count": null,
      "outputs": []
    },
    {
      "cell_type": "code",
      "source": [
        "# export\n",
        "df.to_csv(\"youtube_data.csv\", index=False)"
      ],
      "metadata": {
        "id": "2WklvFLHuTSp"
      },
      "execution_count": null,
      "outputs": []
    },
    {
      "cell_type": "markdown",
      "source": [
        "## Fetch data from video"
      ],
      "metadata": {
        "id": "EgIQuNWTNG2d"
      }
    },
    {
      "cell_type": "code",
      "source": [
        "VIDEO_ID = input(\"Enter the YouTube video ID (the part after 'v='): \")"
      ],
      "metadata": {
        "id": "YaxWBOUmNKHd"
      },
      "execution_count": null,
      "outputs": []
    },
    {
      "cell_type": "code",
      "source": [
        "single_vid_stats = get_video_stats([VIDEO_ID], API_KEY)"
      ],
      "metadata": {
        "id": "RwfgKTZfNr9B"
      },
      "execution_count": null,
      "outputs": []
    },
    {
      "cell_type": "code",
      "source": [
        "single_vid_stats"
      ],
      "metadata": {
        "id": "goj7MffxODE_"
      },
      "execution_count": null,
      "outputs": []
    },
    {
      "cell_type": "code",
      "source": [],
      "metadata": {
        "id": "osWWht4COD2H"
      },
      "execution_count": null,
      "outputs": []
    }
  ]
}